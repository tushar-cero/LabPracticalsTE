{
  "nbformat": 4,
  "nbformat_minor": 0,
  "metadata": {
    "colab": {
      "provenance": []
    },
    "kernelspec": {
      "name": "python3",
      "display_name": "Python 3"
    },
    "language_info": {
      "name": "python"
    }
  },
  "cells": [
    {
      "cell_type": "code",
      "source": [
        "from google.colab import drive\n",
        "drive.mount('/content/drive')"
      ],
      "metadata": {
        "id": "dzqDpedvzkJW",
        "outputId": "6c38d22e-6909-4b68-9aca-81b6f593c7c7",
        "colab": {
          "base_uri": "https://localhost:8080/"
        }
      },
      "execution_count": 1,
      "outputs": [
        {
          "output_type": "stream",
          "name": "stdout",
          "text": [
            "Drive already mounted at /content/drive; to attempt to forcibly remount, call drive.mount(\"/content/drive\", force_remount=True).\n"
          ]
        }
      ]
    },
    {
      "cell_type": "markdown",
      "source": [
        "# Problem Statement 5\n",
        "\n",
        "Perform the following operations on any open source dataset —\n",
        "\n",
        "* Provide summary statistics (mean, median, minimum, maximum, standard deviation) for  a dataset (age, income etc.) with numeric variables grouped by one of the qualitative  (categorical) variable. For example, if your categorical variable is age groups and quantitative  variable is income, then provide summary statistics of income grouped by the age groups.  \n",
        "\n",
        "* Create a list that contains a numeric value for each response to the categorical variable. Write a Python program to display some basic statistical details like percentile, mean,  standard deviation etc. of the species of ‘Iris-setosa’, ‘Iris-versicolor’ and ‘Iris-versicolor’ of  iris.csv dataset."
      ],
      "metadata": {
        "id": "TYwxpbP0aHdG"
      }
    },
    {
      "cell_type": "code",
      "source": [
        "import pandas as pd"
      ],
      "metadata": {
        "id": "YJoc0ntqz4qL"
      },
      "execution_count": 3,
      "outputs": []
    },
    {
      "cell_type": "code",
      "source": [
        "data = pd.read_csv('/content/drive/MyDrive/Colab Notebooks/exam_datasets/7.social_network_ads.csv')"
      ],
      "metadata": {
        "colab": {
          "base_uri": "https://localhost:8080/",
          "height": 17
        },
        "id": "D90BuOY0JU1k",
        "outputId": "b9ea9c6a-4a8d-4932-b294-cd210e464e49"
      },
      "execution_count": 75,
      "outputs": [
        {
          "output_type": "display_data",
          "data": {
            "text/plain": [
              "<IPython.core.display.HTML object>"
            ],
            "text/html": [
              "\n",
              "  <style>\n",
              "    pre {\n",
              "        white-space: pre-wrap;\n",
              "    }\n",
              "  </style>\n",
              "  "
            ]
          },
          "metadata": {}
        }
      ]
    },
    {
      "cell_type": "code",
      "source": [
        "data.describe()"
      ],
      "metadata": {
        "colab": {
          "base_uri": "https://localhost:8080/",
          "height": 297
        },
        "id": "zfG8Mpo0JfoC",
        "outputId": "07a53305-fdbd-465f-9d1b-8c5b1338185c"
      },
      "execution_count": 76,
      "outputs": [
        {
          "output_type": "display_data",
          "data": {
            "text/plain": [
              "<IPython.core.display.HTML object>"
            ],
            "text/html": [
              "\n",
              "  <style>\n",
              "    pre {\n",
              "        white-space: pre-wrap;\n",
              "    }\n",
              "  </style>\n",
              "  "
            ]
          },
          "metadata": {}
        },
        {
          "output_type": "execute_result",
          "data": {
            "text/plain": [
              "            User ID         Age  EstimatedSalary   Purchased\n",
              "count  4.000000e+02  400.000000       400.000000  400.000000\n",
              "mean   1.569154e+07   37.655000     69742.500000    0.357500\n",
              "std    7.165832e+04   10.482877     34096.960282    0.479864\n",
              "min    1.556669e+07   18.000000     15000.000000    0.000000\n",
              "25%    1.562676e+07   29.750000     43000.000000    0.000000\n",
              "50%    1.569434e+07   37.000000     70000.000000    0.000000\n",
              "75%    1.575036e+07   46.000000     88000.000000    1.000000\n",
              "max    1.581524e+07   60.000000    150000.000000    1.000000"
            ],
            "text/html": [
              "\n",
              "  <div id=\"df-abddf34b-0489-4d6c-b4cf-61825d124228\">\n",
              "    <div class=\"colab-df-container\">\n",
              "      <div>\n",
              "<style scoped>\n",
              "    .dataframe tbody tr th:only-of-type {\n",
              "        vertical-align: middle;\n",
              "    }\n",
              "\n",
              "    .dataframe tbody tr th {\n",
              "        vertical-align: top;\n",
              "    }\n",
              "\n",
              "    .dataframe thead th {\n",
              "        text-align: right;\n",
              "    }\n",
              "</style>\n",
              "<table border=\"1\" class=\"dataframe\">\n",
              "  <thead>\n",
              "    <tr style=\"text-align: right;\">\n",
              "      <th></th>\n",
              "      <th>User ID</th>\n",
              "      <th>Age</th>\n",
              "      <th>EstimatedSalary</th>\n",
              "      <th>Purchased</th>\n",
              "    </tr>\n",
              "  </thead>\n",
              "  <tbody>\n",
              "    <tr>\n",
              "      <th>count</th>\n",
              "      <td>4.000000e+02</td>\n",
              "      <td>400.000000</td>\n",
              "      <td>400.000000</td>\n",
              "      <td>400.000000</td>\n",
              "    </tr>\n",
              "    <tr>\n",
              "      <th>mean</th>\n",
              "      <td>1.569154e+07</td>\n",
              "      <td>37.655000</td>\n",
              "      <td>69742.500000</td>\n",
              "      <td>0.357500</td>\n",
              "    </tr>\n",
              "    <tr>\n",
              "      <th>std</th>\n",
              "      <td>7.165832e+04</td>\n",
              "      <td>10.482877</td>\n",
              "      <td>34096.960282</td>\n",
              "      <td>0.479864</td>\n",
              "    </tr>\n",
              "    <tr>\n",
              "      <th>min</th>\n",
              "      <td>1.556669e+07</td>\n",
              "      <td>18.000000</td>\n",
              "      <td>15000.000000</td>\n",
              "      <td>0.000000</td>\n",
              "    </tr>\n",
              "    <tr>\n",
              "      <th>25%</th>\n",
              "      <td>1.562676e+07</td>\n",
              "      <td>29.750000</td>\n",
              "      <td>43000.000000</td>\n",
              "      <td>0.000000</td>\n",
              "    </tr>\n",
              "    <tr>\n",
              "      <th>50%</th>\n",
              "      <td>1.569434e+07</td>\n",
              "      <td>37.000000</td>\n",
              "      <td>70000.000000</td>\n",
              "      <td>0.000000</td>\n",
              "    </tr>\n",
              "    <tr>\n",
              "      <th>75%</th>\n",
              "      <td>1.575036e+07</td>\n",
              "      <td>46.000000</td>\n",
              "      <td>88000.000000</td>\n",
              "      <td>1.000000</td>\n",
              "    </tr>\n",
              "    <tr>\n",
              "      <th>max</th>\n",
              "      <td>1.581524e+07</td>\n",
              "      <td>60.000000</td>\n",
              "      <td>150000.000000</td>\n",
              "      <td>1.000000</td>\n",
              "    </tr>\n",
              "  </tbody>\n",
              "</table>\n",
              "</div>\n",
              "      <button class=\"colab-df-convert\" onclick=\"convertToInteractive('df-abddf34b-0489-4d6c-b4cf-61825d124228')\"\n",
              "              title=\"Convert this dataframe to an interactive table.\"\n",
              "              style=\"display:none;\">\n",
              "        \n",
              "  <svg xmlns=\"http://www.w3.org/2000/svg\" height=\"24px\"viewBox=\"0 0 24 24\"\n",
              "       width=\"24px\">\n",
              "    <path d=\"M0 0h24v24H0V0z\" fill=\"none\"/>\n",
              "    <path d=\"M18.56 5.44l.94 2.06.94-2.06 2.06-.94-2.06-.94-.94-2.06-.94 2.06-2.06.94zm-11 1L8.5 8.5l.94-2.06 2.06-.94-2.06-.94L8.5 2.5l-.94 2.06-2.06.94zm10 10l.94 2.06.94-2.06 2.06-.94-2.06-.94-.94-2.06-.94 2.06-2.06.94z\"/><path d=\"M17.41 7.96l-1.37-1.37c-.4-.4-.92-.59-1.43-.59-.52 0-1.04.2-1.43.59L10.3 9.45l-7.72 7.72c-.78.78-.78 2.05 0 2.83L4 21.41c.39.39.9.59 1.41.59.51 0 1.02-.2 1.41-.59l7.78-7.78 2.81-2.81c.8-.78.8-2.07 0-2.86zM5.41 20L4 18.59l7.72-7.72 1.47 1.35L5.41 20z\"/>\n",
              "  </svg>\n",
              "      </button>\n",
              "      \n",
              "  <style>\n",
              "    .colab-df-container {\n",
              "      display:flex;\n",
              "      flex-wrap:wrap;\n",
              "      gap: 12px;\n",
              "    }\n",
              "\n",
              "    .colab-df-convert {\n",
              "      background-color: #E8F0FE;\n",
              "      border: none;\n",
              "      border-radius: 50%;\n",
              "      cursor: pointer;\n",
              "      display: none;\n",
              "      fill: #1967D2;\n",
              "      height: 32px;\n",
              "      padding: 0 0 0 0;\n",
              "      width: 32px;\n",
              "    }\n",
              "\n",
              "    .colab-df-convert:hover {\n",
              "      background-color: #E2EBFA;\n",
              "      box-shadow: 0px 1px 2px rgba(60, 64, 67, 0.3), 0px 1px 3px 1px rgba(60, 64, 67, 0.15);\n",
              "      fill: #174EA6;\n",
              "    }\n",
              "\n",
              "    [theme=dark] .colab-df-convert {\n",
              "      background-color: #3B4455;\n",
              "      fill: #D2E3FC;\n",
              "    }\n",
              "\n",
              "    [theme=dark] .colab-df-convert:hover {\n",
              "      background-color: #434B5C;\n",
              "      box-shadow: 0px 1px 3px 1px rgba(0, 0, 0, 0.15);\n",
              "      filter: drop-shadow(0px 1px 2px rgba(0, 0, 0, 0.3));\n",
              "      fill: #FFFFFF;\n",
              "    }\n",
              "  </style>\n",
              "\n",
              "      <script>\n",
              "        const buttonEl =\n",
              "          document.querySelector('#df-abddf34b-0489-4d6c-b4cf-61825d124228 button.colab-df-convert');\n",
              "        buttonEl.style.display =\n",
              "          google.colab.kernel.accessAllowed ? 'block' : 'none';\n",
              "\n",
              "        async function convertToInteractive(key) {\n",
              "          const element = document.querySelector('#df-abddf34b-0489-4d6c-b4cf-61825d124228');\n",
              "          const dataTable =\n",
              "            await google.colab.kernel.invokeFunction('convertToInteractive',\n",
              "                                                     [key], {});\n",
              "          if (!dataTable) return;\n",
              "\n",
              "          const docLinkHtml = 'Like what you see? Visit the ' +\n",
              "            '<a target=\"_blank\" href=https://colab.research.google.com/notebooks/data_table.ipynb>data table notebook</a>'\n",
              "            + ' to learn more about interactive tables.';\n",
              "          element.innerHTML = '';\n",
              "          dataTable['output_type'] = 'display_data';\n",
              "          await google.colab.output.renderOutput(dataTable, element);\n",
              "          const docLink = document.createElement('div');\n",
              "          docLink.innerHTML = docLinkHtml;\n",
              "          element.appendChild(docLink);\n",
              "        }\n",
              "      </script>\n",
              "    </div>\n",
              "  </div>\n",
              "  "
            ]
          },
          "metadata": {},
          "execution_count": 76
        }
      ]
    },
    {
      "cell_type": "code",
      "source": [
        "data.info()"
      ],
      "metadata": {
        "colab": {
          "base_uri": "https://localhost:8080/",
          "height": 221
        },
        "id": "q9EMDMwqJj2b",
        "outputId": "84c9391f-2d66-463f-8abf-0435fc957fbd"
      },
      "execution_count": 77,
      "outputs": [
        {
          "output_type": "display_data",
          "data": {
            "text/plain": [
              "<IPython.core.display.HTML object>"
            ],
            "text/html": [
              "\n",
              "  <style>\n",
              "    pre {\n",
              "        white-space: pre-wrap;\n",
              "    }\n",
              "  </style>\n",
              "  "
            ]
          },
          "metadata": {}
        },
        {
          "output_type": "stream",
          "name": "stdout",
          "text": [
            "<class 'pandas.core.frame.DataFrame'>\n",
            "RangeIndex: 400 entries, 0 to 399\n",
            "Data columns (total 5 columns):\n",
            " #   Column           Non-Null Count  Dtype \n",
            "---  ------           --------------  ----- \n",
            " 0   User ID          400 non-null    int64 \n",
            " 1   Gender           400 non-null    object\n",
            " 2   Age              400 non-null    int64 \n",
            " 3   EstimatedSalary  400 non-null    int64 \n",
            " 4   Purchased        400 non-null    int64 \n",
            "dtypes: int64(4), object(1)\n",
            "memory usage: 15.8+ KB\n"
          ]
        }
      ]
    },
    {
      "cell_type": "code",
      "source": [
        "data = data.replace('Male', 0)\n",
        "data = data.replace('Female', 1)\n",
        "data.head()"
      ],
      "metadata": {
        "colab": {
          "base_uri": "https://localhost:8080/",
          "height": 204
        },
        "id": "hl69AjQoJlce",
        "outputId": "71e2ea20-6517-4fe5-996d-a1975b3bb777"
      },
      "execution_count": 79,
      "outputs": [
        {
          "output_type": "display_data",
          "data": {
            "text/plain": [
              "<IPython.core.display.HTML object>"
            ],
            "text/html": [
              "\n",
              "  <style>\n",
              "    pre {\n",
              "        white-space: pre-wrap;\n",
              "    }\n",
              "  </style>\n",
              "  "
            ]
          },
          "metadata": {}
        },
        {
          "output_type": "execute_result",
          "data": {
            "text/plain": [
              "    User ID  Gender  Age  EstimatedSalary  Purchased\n",
              "0  15624510       0   19            19000          0\n",
              "1  15810944       0   35            20000          0\n",
              "2  15668575       1   26            43000          0\n",
              "3  15603246       1   27            57000          0\n",
              "4  15804002       0   19            76000          0"
            ],
            "text/html": [
              "\n",
              "  <div id=\"df-424dfc58-a55a-426b-9485-4db004d86f3d\">\n",
              "    <div class=\"colab-df-container\">\n",
              "      <div>\n",
              "<style scoped>\n",
              "    .dataframe tbody tr th:only-of-type {\n",
              "        vertical-align: middle;\n",
              "    }\n",
              "\n",
              "    .dataframe tbody tr th {\n",
              "        vertical-align: top;\n",
              "    }\n",
              "\n",
              "    .dataframe thead th {\n",
              "        text-align: right;\n",
              "    }\n",
              "</style>\n",
              "<table border=\"1\" class=\"dataframe\">\n",
              "  <thead>\n",
              "    <tr style=\"text-align: right;\">\n",
              "      <th></th>\n",
              "      <th>User ID</th>\n",
              "      <th>Gender</th>\n",
              "      <th>Age</th>\n",
              "      <th>EstimatedSalary</th>\n",
              "      <th>Purchased</th>\n",
              "    </tr>\n",
              "  </thead>\n",
              "  <tbody>\n",
              "    <tr>\n",
              "      <th>0</th>\n",
              "      <td>15624510</td>\n",
              "      <td>0</td>\n",
              "      <td>19</td>\n",
              "      <td>19000</td>\n",
              "      <td>0</td>\n",
              "    </tr>\n",
              "    <tr>\n",
              "      <th>1</th>\n",
              "      <td>15810944</td>\n",
              "      <td>0</td>\n",
              "      <td>35</td>\n",
              "      <td>20000</td>\n",
              "      <td>0</td>\n",
              "    </tr>\n",
              "    <tr>\n",
              "      <th>2</th>\n",
              "      <td>15668575</td>\n",
              "      <td>1</td>\n",
              "      <td>26</td>\n",
              "      <td>43000</td>\n",
              "      <td>0</td>\n",
              "    </tr>\n",
              "    <tr>\n",
              "      <th>3</th>\n",
              "      <td>15603246</td>\n",
              "      <td>1</td>\n",
              "      <td>27</td>\n",
              "      <td>57000</td>\n",
              "      <td>0</td>\n",
              "    </tr>\n",
              "    <tr>\n",
              "      <th>4</th>\n",
              "      <td>15804002</td>\n",
              "      <td>0</td>\n",
              "      <td>19</td>\n",
              "      <td>76000</td>\n",
              "      <td>0</td>\n",
              "    </tr>\n",
              "  </tbody>\n",
              "</table>\n",
              "</div>\n",
              "      <button class=\"colab-df-convert\" onclick=\"convertToInteractive('df-424dfc58-a55a-426b-9485-4db004d86f3d')\"\n",
              "              title=\"Convert this dataframe to an interactive table.\"\n",
              "              style=\"display:none;\">\n",
              "        \n",
              "  <svg xmlns=\"http://www.w3.org/2000/svg\" height=\"24px\"viewBox=\"0 0 24 24\"\n",
              "       width=\"24px\">\n",
              "    <path d=\"M0 0h24v24H0V0z\" fill=\"none\"/>\n",
              "    <path d=\"M18.56 5.44l.94 2.06.94-2.06 2.06-.94-2.06-.94-.94-2.06-.94 2.06-2.06.94zm-11 1L8.5 8.5l.94-2.06 2.06-.94-2.06-.94L8.5 2.5l-.94 2.06-2.06.94zm10 10l.94 2.06.94-2.06 2.06-.94-2.06-.94-.94-2.06-.94 2.06-2.06.94z\"/><path d=\"M17.41 7.96l-1.37-1.37c-.4-.4-.92-.59-1.43-.59-.52 0-1.04.2-1.43.59L10.3 9.45l-7.72 7.72c-.78.78-.78 2.05 0 2.83L4 21.41c.39.39.9.59 1.41.59.51 0 1.02-.2 1.41-.59l7.78-7.78 2.81-2.81c.8-.78.8-2.07 0-2.86zM5.41 20L4 18.59l7.72-7.72 1.47 1.35L5.41 20z\"/>\n",
              "  </svg>\n",
              "      </button>\n",
              "      \n",
              "  <style>\n",
              "    .colab-df-container {\n",
              "      display:flex;\n",
              "      flex-wrap:wrap;\n",
              "      gap: 12px;\n",
              "    }\n",
              "\n",
              "    .colab-df-convert {\n",
              "      background-color: #E8F0FE;\n",
              "      border: none;\n",
              "      border-radius: 50%;\n",
              "      cursor: pointer;\n",
              "      display: none;\n",
              "      fill: #1967D2;\n",
              "      height: 32px;\n",
              "      padding: 0 0 0 0;\n",
              "      width: 32px;\n",
              "    }\n",
              "\n",
              "    .colab-df-convert:hover {\n",
              "      background-color: #E2EBFA;\n",
              "      box-shadow: 0px 1px 2px rgba(60, 64, 67, 0.3), 0px 1px 3px 1px rgba(60, 64, 67, 0.15);\n",
              "      fill: #174EA6;\n",
              "    }\n",
              "\n",
              "    [theme=dark] .colab-df-convert {\n",
              "      background-color: #3B4455;\n",
              "      fill: #D2E3FC;\n",
              "    }\n",
              "\n",
              "    [theme=dark] .colab-df-convert:hover {\n",
              "      background-color: #434B5C;\n",
              "      box-shadow: 0px 1px 3px 1px rgba(0, 0, 0, 0.15);\n",
              "      filter: drop-shadow(0px 1px 2px rgba(0, 0, 0, 0.3));\n",
              "      fill: #FFFFFF;\n",
              "    }\n",
              "  </style>\n",
              "\n",
              "      <script>\n",
              "        const buttonEl =\n",
              "          document.querySelector('#df-424dfc58-a55a-426b-9485-4db004d86f3d button.colab-df-convert');\n",
              "        buttonEl.style.display =\n",
              "          google.colab.kernel.accessAllowed ? 'block' : 'none';\n",
              "\n",
              "        async function convertToInteractive(key) {\n",
              "          const element = document.querySelector('#df-424dfc58-a55a-426b-9485-4db004d86f3d');\n",
              "          const dataTable =\n",
              "            await google.colab.kernel.invokeFunction('convertToInteractive',\n",
              "                                                     [key], {});\n",
              "          if (!dataTable) return;\n",
              "\n",
              "          const docLinkHtml = 'Like what you see? Visit the ' +\n",
              "            '<a target=\"_blank\" href=https://colab.research.google.com/notebooks/data_table.ipynb>data table notebook</a>'\n",
              "            + ' to learn more about interactive tables.';\n",
              "          element.innerHTML = '';\n",
              "          dataTable['output_type'] = 'display_data';\n",
              "          await google.colab.output.renderOutput(dataTable, element);\n",
              "          const docLink = document.createElement('div');\n",
              "          docLink.innerHTML = docLinkHtml;\n",
              "          element.appendChild(docLink);\n",
              "        }\n",
              "      </script>\n",
              "    </div>\n",
              "  </div>\n",
              "  "
            ]
          },
          "metadata": {},
          "execution_count": 79
        }
      ]
    },
    {
      "cell_type": "code",
      "source": [
        "data['EstimatedSalary'].min()"
      ],
      "metadata": {
        "colab": {
          "base_uri": "https://localhost:8080/",
          "height": 34
        },
        "id": "XSxXaORmKytk",
        "outputId": "395865b0-f070-43d9-ab08-72198990c8ca"
      },
      "execution_count": 84,
      "outputs": [
        {
          "output_type": "display_data",
          "data": {
            "text/plain": [
              "<IPython.core.display.HTML object>"
            ],
            "text/html": [
              "\n",
              "  <style>\n",
              "    pre {\n",
              "        white-space: pre-wrap;\n",
              "    }\n",
              "  </style>\n",
              "  "
            ]
          },
          "metadata": {}
        },
        {
          "output_type": "execute_result",
          "data": {
            "text/plain": [
              "15000"
            ]
          },
          "metadata": {},
          "execution_count": 84
        }
      ]
    },
    {
      "cell_type": "code",
      "source": [
        "data['EstimatedSalary'].max()"
      ],
      "metadata": {
        "colab": {
          "base_uri": "https://localhost:8080/",
          "height": 34
        },
        "id": "Qd_jA9SPK3IK",
        "outputId": "62ef87bf-4cc1-441c-cfdb-f025ba1a2799"
      },
      "execution_count": 85,
      "outputs": [
        {
          "output_type": "display_data",
          "data": {
            "text/plain": [
              "<IPython.core.display.HTML object>"
            ],
            "text/html": [
              "\n",
              "  <style>\n",
              "    pre {\n",
              "        white-space: pre-wrap;\n",
              "    }\n",
              "  </style>\n",
              "  "
            ]
          },
          "metadata": {}
        },
        {
          "output_type": "execute_result",
          "data": {
            "text/plain": [
              "150000"
            ]
          },
          "metadata": {},
          "execution_count": 85
        }
      ]
    },
    {
      "cell_type": "code",
      "source": [
        "data['EstimatedSalary'].std()"
      ],
      "metadata": {
        "colab": {
          "base_uri": "https://localhost:8080/",
          "height": 34
        },
        "id": "evIl-RNCK3cM",
        "outputId": "9201a4fa-a252-477b-9c5e-2546f3fa4003"
      },
      "execution_count": 86,
      "outputs": [
        {
          "output_type": "display_data",
          "data": {
            "text/plain": [
              "<IPython.core.display.HTML object>"
            ],
            "text/html": [
              "\n",
              "  <style>\n",
              "    pre {\n",
              "        white-space: pre-wrap;\n",
              "    }\n",
              "  </style>\n",
              "  "
            ]
          },
          "metadata": {}
        },
        {
          "output_type": "execute_result",
          "data": {
            "text/plain": [
              "34096.960282424785"
            ]
          },
          "metadata": {},
          "execution_count": 86
        }
      ]
    },
    {
      "cell_type": "code",
      "source": [
        "data['EstimatedSalary'].mean()"
      ],
      "metadata": {
        "colab": {
          "base_uri": "https://localhost:8080/",
          "height": 34
        },
        "id": "vaoTG-3rK3uL",
        "outputId": "944981de-53f4-4436-da86-bd4732f6fbc5"
      },
      "execution_count": 87,
      "outputs": [
        {
          "output_type": "display_data",
          "data": {
            "text/plain": [
              "<IPython.core.display.HTML object>"
            ],
            "text/html": [
              "\n",
              "  <style>\n",
              "    pre {\n",
              "        white-space: pre-wrap;\n",
              "    }\n",
              "  </style>\n",
              "  "
            ]
          },
          "metadata": {}
        },
        {
          "output_type": "execute_result",
          "data": {
            "text/plain": [
              "69742.5"
            ]
          },
          "metadata": {},
          "execution_count": 87
        }
      ]
    },
    {
      "cell_type": "code",
      "source": [
        "data['EstimatedSalary'].median()"
      ],
      "metadata": {
        "colab": {
          "base_uri": "https://localhost:8080/",
          "height": 34
        },
        "id": "FotI2iPbK39S",
        "outputId": "70bae72c-1143-488e-e243-2b1e4a713b5e"
      },
      "execution_count": 88,
      "outputs": [
        {
          "output_type": "display_data",
          "data": {
            "text/plain": [
              "<IPython.core.display.HTML object>"
            ],
            "text/html": [
              "\n",
              "  <style>\n",
              "    pre {\n",
              "        white-space: pre-wrap;\n",
              "    }\n",
              "  </style>\n",
              "  "
            ]
          },
          "metadata": {}
        },
        {
          "output_type": "execute_result",
          "data": {
            "text/plain": [
              "70000.0"
            ]
          },
          "metadata": {},
          "execution_count": 88
        }
      ]
    },
    {
      "cell_type": "code",
      "source": [
        "data['EstimatedSalary'].nunique()"
      ],
      "metadata": {
        "colab": {
          "base_uri": "https://localhost:8080/",
          "height": 34
        },
        "id": "dtKl0uCFK4X-",
        "outputId": "4f666a0f-7529-42fc-ecd8-bd507ff07eef"
      },
      "execution_count": 89,
      "outputs": [
        {
          "output_type": "display_data",
          "data": {
            "text/plain": [
              "<IPython.core.display.HTML object>"
            ],
            "text/html": [
              "\n",
              "  <style>\n",
              "    pre {\n",
              "        white-space: pre-wrap;\n",
              "    }\n",
              "  </style>\n",
              "  "
            ]
          },
          "metadata": {}
        },
        {
          "output_type": "execute_result",
          "data": {
            "text/plain": [
              "117"
            ]
          },
          "metadata": {},
          "execution_count": 89
        }
      ]
    },
    {
      "cell_type": "code",
      "source": [
        "data.groupby(['EstimatedSalary', 'Age']).count()"
      ],
      "metadata": {
        "colab": {
          "base_uri": "https://localhost:8080/",
          "height": 450
        },
        "id": "exwL1uZ2LBHE",
        "outputId": "222e526d-6d8e-4aa0-d7b7-8e935670c2e7"
      },
      "execution_count": 90,
      "outputs": [
        {
          "output_type": "display_data",
          "data": {
            "text/plain": [
              "<IPython.core.display.HTML object>"
            ],
            "text/html": [
              "\n",
              "  <style>\n",
              "    pre {\n",
              "        white-space: pre-wrap;\n",
              "    }\n",
              "  </style>\n",
              "  "
            ]
          },
          "metadata": {}
        },
        {
          "output_type": "execute_result",
          "data": {
            "text/plain": [
              "                     User ID  Gender  Purchased\n",
              "EstimatedSalary Age                            \n",
              "15000           26         2       2          2\n",
              "                30         1       1          1\n",
              "                31         1       1          1\n",
              "16000           21         1       1          1\n",
              "                26         1       1          1\n",
              "...                      ...     ...        ...\n",
              "148000          29         1       1          1\n",
              "149000          33         1       1          1\n",
              "                42         1       1          1\n",
              "150000          32         1       1          1\n",
              "                52         1       1          1\n",
              "\n",
              "[365 rows x 3 columns]"
            ],
            "text/html": [
              "\n",
              "  <div id=\"df-7e253b10-f22b-457a-bed3-356fa898aa23\">\n",
              "    <div class=\"colab-df-container\">\n",
              "      <div>\n",
              "<style scoped>\n",
              "    .dataframe tbody tr th:only-of-type {\n",
              "        vertical-align: middle;\n",
              "    }\n",
              "\n",
              "    .dataframe tbody tr th {\n",
              "        vertical-align: top;\n",
              "    }\n",
              "\n",
              "    .dataframe thead th {\n",
              "        text-align: right;\n",
              "    }\n",
              "</style>\n",
              "<table border=\"1\" class=\"dataframe\">\n",
              "  <thead>\n",
              "    <tr style=\"text-align: right;\">\n",
              "      <th></th>\n",
              "      <th></th>\n",
              "      <th>User ID</th>\n",
              "      <th>Gender</th>\n",
              "      <th>Purchased</th>\n",
              "    </tr>\n",
              "    <tr>\n",
              "      <th>EstimatedSalary</th>\n",
              "      <th>Age</th>\n",
              "      <th></th>\n",
              "      <th></th>\n",
              "      <th></th>\n",
              "    </tr>\n",
              "  </thead>\n",
              "  <tbody>\n",
              "    <tr>\n",
              "      <th rowspan=\"3\" valign=\"top\">15000</th>\n",
              "      <th>26</th>\n",
              "      <td>2</td>\n",
              "      <td>2</td>\n",
              "      <td>2</td>\n",
              "    </tr>\n",
              "    <tr>\n",
              "      <th>30</th>\n",
              "      <td>1</td>\n",
              "      <td>1</td>\n",
              "      <td>1</td>\n",
              "    </tr>\n",
              "    <tr>\n",
              "      <th>31</th>\n",
              "      <td>1</td>\n",
              "      <td>1</td>\n",
              "      <td>1</td>\n",
              "    </tr>\n",
              "    <tr>\n",
              "      <th rowspan=\"2\" valign=\"top\">16000</th>\n",
              "      <th>21</th>\n",
              "      <td>1</td>\n",
              "      <td>1</td>\n",
              "      <td>1</td>\n",
              "    </tr>\n",
              "    <tr>\n",
              "      <th>26</th>\n",
              "      <td>1</td>\n",
              "      <td>1</td>\n",
              "      <td>1</td>\n",
              "    </tr>\n",
              "    <tr>\n",
              "      <th>...</th>\n",
              "      <th>...</th>\n",
              "      <td>...</td>\n",
              "      <td>...</td>\n",
              "      <td>...</td>\n",
              "    </tr>\n",
              "    <tr>\n",
              "      <th>148000</th>\n",
              "      <th>29</th>\n",
              "      <td>1</td>\n",
              "      <td>1</td>\n",
              "      <td>1</td>\n",
              "    </tr>\n",
              "    <tr>\n",
              "      <th rowspan=\"2\" valign=\"top\">149000</th>\n",
              "      <th>33</th>\n",
              "      <td>1</td>\n",
              "      <td>1</td>\n",
              "      <td>1</td>\n",
              "    </tr>\n",
              "    <tr>\n",
              "      <th>42</th>\n",
              "      <td>1</td>\n",
              "      <td>1</td>\n",
              "      <td>1</td>\n",
              "    </tr>\n",
              "    <tr>\n",
              "      <th rowspan=\"2\" valign=\"top\">150000</th>\n",
              "      <th>32</th>\n",
              "      <td>1</td>\n",
              "      <td>1</td>\n",
              "      <td>1</td>\n",
              "    </tr>\n",
              "    <tr>\n",
              "      <th>52</th>\n",
              "      <td>1</td>\n",
              "      <td>1</td>\n",
              "      <td>1</td>\n",
              "    </tr>\n",
              "  </tbody>\n",
              "</table>\n",
              "<p>365 rows × 3 columns</p>\n",
              "</div>\n",
              "      <button class=\"colab-df-convert\" onclick=\"convertToInteractive('df-7e253b10-f22b-457a-bed3-356fa898aa23')\"\n",
              "              title=\"Convert this dataframe to an interactive table.\"\n",
              "              style=\"display:none;\">\n",
              "        \n",
              "  <svg xmlns=\"http://www.w3.org/2000/svg\" height=\"24px\"viewBox=\"0 0 24 24\"\n",
              "       width=\"24px\">\n",
              "    <path d=\"M0 0h24v24H0V0z\" fill=\"none\"/>\n",
              "    <path d=\"M18.56 5.44l.94 2.06.94-2.06 2.06-.94-2.06-.94-.94-2.06-.94 2.06-2.06.94zm-11 1L8.5 8.5l.94-2.06 2.06-.94-2.06-.94L8.5 2.5l-.94 2.06-2.06.94zm10 10l.94 2.06.94-2.06 2.06-.94-2.06-.94-.94-2.06-.94 2.06-2.06.94z\"/><path d=\"M17.41 7.96l-1.37-1.37c-.4-.4-.92-.59-1.43-.59-.52 0-1.04.2-1.43.59L10.3 9.45l-7.72 7.72c-.78.78-.78 2.05 0 2.83L4 21.41c.39.39.9.59 1.41.59.51 0 1.02-.2 1.41-.59l7.78-7.78 2.81-2.81c.8-.78.8-2.07 0-2.86zM5.41 20L4 18.59l7.72-7.72 1.47 1.35L5.41 20z\"/>\n",
              "  </svg>\n",
              "      </button>\n",
              "      \n",
              "  <style>\n",
              "    .colab-df-container {\n",
              "      display:flex;\n",
              "      flex-wrap:wrap;\n",
              "      gap: 12px;\n",
              "    }\n",
              "\n",
              "    .colab-df-convert {\n",
              "      background-color: #E8F0FE;\n",
              "      border: none;\n",
              "      border-radius: 50%;\n",
              "      cursor: pointer;\n",
              "      display: none;\n",
              "      fill: #1967D2;\n",
              "      height: 32px;\n",
              "      padding: 0 0 0 0;\n",
              "      width: 32px;\n",
              "    }\n",
              "\n",
              "    .colab-df-convert:hover {\n",
              "      background-color: #E2EBFA;\n",
              "      box-shadow: 0px 1px 2px rgba(60, 64, 67, 0.3), 0px 1px 3px 1px rgba(60, 64, 67, 0.15);\n",
              "      fill: #174EA6;\n",
              "    }\n",
              "\n",
              "    [theme=dark] .colab-df-convert {\n",
              "      background-color: #3B4455;\n",
              "      fill: #D2E3FC;\n",
              "    }\n",
              "\n",
              "    [theme=dark] .colab-df-convert:hover {\n",
              "      background-color: #434B5C;\n",
              "      box-shadow: 0px 1px 3px 1px rgba(0, 0, 0, 0.15);\n",
              "      filter: drop-shadow(0px 1px 2px rgba(0, 0, 0, 0.3));\n",
              "      fill: #FFFFFF;\n",
              "    }\n",
              "  </style>\n",
              "\n",
              "      <script>\n",
              "        const buttonEl =\n",
              "          document.querySelector('#df-7e253b10-f22b-457a-bed3-356fa898aa23 button.colab-df-convert');\n",
              "        buttonEl.style.display =\n",
              "          google.colab.kernel.accessAllowed ? 'block' : 'none';\n",
              "\n",
              "        async function convertToInteractive(key) {\n",
              "          const element = document.querySelector('#df-7e253b10-f22b-457a-bed3-356fa898aa23');\n",
              "          const dataTable =\n",
              "            await google.colab.kernel.invokeFunction('convertToInteractive',\n",
              "                                                     [key], {});\n",
              "          if (!dataTable) return;\n",
              "\n",
              "          const docLinkHtml = 'Like what you see? Visit the ' +\n",
              "            '<a target=\"_blank\" href=https://colab.research.google.com/notebooks/data_table.ipynb>data table notebook</a>'\n",
              "            + ' to learn more about interactive tables.';\n",
              "          element.innerHTML = '';\n",
              "          dataTable['output_type'] = 'display_data';\n",
              "          await google.colab.output.renderOutput(dataTable, element);\n",
              "          const docLink = document.createElement('div');\n",
              "          docLink.innerHTML = docLinkHtml;\n",
              "          element.appendChild(docLink);\n",
              "        }\n",
              "      </script>\n",
              "    </div>\n",
              "  </div>\n",
              "  "
            ]
          },
          "metadata": {},
          "execution_count": 90
        }
      ]
    },
    {
      "cell_type": "markdown",
      "source": [
        "# 2nd Dataset"
      ],
      "metadata": {
        "id": "f0umJhJlLzX8"
      }
    },
    {
      "cell_type": "code",
      "source": [
        "df = pd.read_csv('/content/drive/MyDrive/Colab Notebooks/exam_datasets/5-8-13-14.iris.csv')"
      ],
      "metadata": {
        "id": "Uodfk6dGbgSe",
        "colab": {
          "base_uri": "https://localhost:8080/",
          "height": 17
        },
        "outputId": "641a3a97-c2f4-48cd-a259-249a2ea289e6"
      },
      "execution_count": 72,
      "outputs": [
        {
          "output_type": "display_data",
          "data": {
            "text/plain": [
              "<IPython.core.display.HTML object>"
            ],
            "text/html": [
              "\n",
              "  <style>\n",
              "    pre {\n",
              "        white-space: pre-wrap;\n",
              "    }\n",
              "  </style>\n",
              "  "
            ]
          },
          "metadata": {}
        }
      ]
    },
    {
      "cell_type": "code",
      "source": [
        "df.describe()"
      ],
      "metadata": {
        "colab": {
          "base_uri": "https://localhost:8080/",
          "height": 297
        },
        "id": "KoKNlzFBIipK",
        "outputId": "10124df1-17ac-40c6-940a-c416bfe83757"
      },
      "execution_count": 73,
      "outputs": [
        {
          "output_type": "display_data",
          "data": {
            "text/plain": [
              "<IPython.core.display.HTML object>"
            ],
            "text/html": [
              "\n",
              "  <style>\n",
              "    pre {\n",
              "        white-space: pre-wrap;\n",
              "    }\n",
              "  </style>\n",
              "  "
            ]
          },
          "metadata": {}
        },
        {
          "output_type": "execute_result",
          "data": {
            "text/plain": [
              "       sepal.length  sepal.width  petal.length  petal.width\n",
              "count    150.000000   150.000000    150.000000   150.000000\n",
              "mean       5.843333     3.057333      3.758000     1.199333\n",
              "std        0.828066     0.435866      1.765298     0.762238\n",
              "min        4.300000     2.000000      1.000000     0.100000\n",
              "25%        5.100000     2.800000      1.600000     0.300000\n",
              "50%        5.800000     3.000000      4.350000     1.300000\n",
              "75%        6.400000     3.300000      5.100000     1.800000\n",
              "max        7.900000     4.400000      6.900000     2.500000"
            ],
            "text/html": [
              "\n",
              "  <div id=\"df-972e065d-5153-42b5-b1d0-b8d4a59c80d8\">\n",
              "    <div class=\"colab-df-container\">\n",
              "      <div>\n",
              "<style scoped>\n",
              "    .dataframe tbody tr th:only-of-type {\n",
              "        vertical-align: middle;\n",
              "    }\n",
              "\n",
              "    .dataframe tbody tr th {\n",
              "        vertical-align: top;\n",
              "    }\n",
              "\n",
              "    .dataframe thead th {\n",
              "        text-align: right;\n",
              "    }\n",
              "</style>\n",
              "<table border=\"1\" class=\"dataframe\">\n",
              "  <thead>\n",
              "    <tr style=\"text-align: right;\">\n",
              "      <th></th>\n",
              "      <th>sepal.length</th>\n",
              "      <th>sepal.width</th>\n",
              "      <th>petal.length</th>\n",
              "      <th>petal.width</th>\n",
              "    </tr>\n",
              "  </thead>\n",
              "  <tbody>\n",
              "    <tr>\n",
              "      <th>count</th>\n",
              "      <td>150.000000</td>\n",
              "      <td>150.000000</td>\n",
              "      <td>150.000000</td>\n",
              "      <td>150.000000</td>\n",
              "    </tr>\n",
              "    <tr>\n",
              "      <th>mean</th>\n",
              "      <td>5.843333</td>\n",
              "      <td>3.057333</td>\n",
              "      <td>3.758000</td>\n",
              "      <td>1.199333</td>\n",
              "    </tr>\n",
              "    <tr>\n",
              "      <th>std</th>\n",
              "      <td>0.828066</td>\n",
              "      <td>0.435866</td>\n",
              "      <td>1.765298</td>\n",
              "      <td>0.762238</td>\n",
              "    </tr>\n",
              "    <tr>\n",
              "      <th>min</th>\n",
              "      <td>4.300000</td>\n",
              "      <td>2.000000</td>\n",
              "      <td>1.000000</td>\n",
              "      <td>0.100000</td>\n",
              "    </tr>\n",
              "    <tr>\n",
              "      <th>25%</th>\n",
              "      <td>5.100000</td>\n",
              "      <td>2.800000</td>\n",
              "      <td>1.600000</td>\n",
              "      <td>0.300000</td>\n",
              "    </tr>\n",
              "    <tr>\n",
              "      <th>50%</th>\n",
              "      <td>5.800000</td>\n",
              "      <td>3.000000</td>\n",
              "      <td>4.350000</td>\n",
              "      <td>1.300000</td>\n",
              "    </tr>\n",
              "    <tr>\n",
              "      <th>75%</th>\n",
              "      <td>6.400000</td>\n",
              "      <td>3.300000</td>\n",
              "      <td>5.100000</td>\n",
              "      <td>1.800000</td>\n",
              "    </tr>\n",
              "    <tr>\n",
              "      <th>max</th>\n",
              "      <td>7.900000</td>\n",
              "      <td>4.400000</td>\n",
              "      <td>6.900000</td>\n",
              "      <td>2.500000</td>\n",
              "    </tr>\n",
              "  </tbody>\n",
              "</table>\n",
              "</div>\n",
              "      <button class=\"colab-df-convert\" onclick=\"convertToInteractive('df-972e065d-5153-42b5-b1d0-b8d4a59c80d8')\"\n",
              "              title=\"Convert this dataframe to an interactive table.\"\n",
              "              style=\"display:none;\">\n",
              "        \n",
              "  <svg xmlns=\"http://www.w3.org/2000/svg\" height=\"24px\"viewBox=\"0 0 24 24\"\n",
              "       width=\"24px\">\n",
              "    <path d=\"M0 0h24v24H0V0z\" fill=\"none\"/>\n",
              "    <path d=\"M18.56 5.44l.94 2.06.94-2.06 2.06-.94-2.06-.94-.94-2.06-.94 2.06-2.06.94zm-11 1L8.5 8.5l.94-2.06 2.06-.94-2.06-.94L8.5 2.5l-.94 2.06-2.06.94zm10 10l.94 2.06.94-2.06 2.06-.94-2.06-.94-.94-2.06-.94 2.06-2.06.94z\"/><path d=\"M17.41 7.96l-1.37-1.37c-.4-.4-.92-.59-1.43-.59-.52 0-1.04.2-1.43.59L10.3 9.45l-7.72 7.72c-.78.78-.78 2.05 0 2.83L4 21.41c.39.39.9.59 1.41.59.51 0 1.02-.2 1.41-.59l7.78-7.78 2.81-2.81c.8-.78.8-2.07 0-2.86zM5.41 20L4 18.59l7.72-7.72 1.47 1.35L5.41 20z\"/>\n",
              "  </svg>\n",
              "      </button>\n",
              "      \n",
              "  <style>\n",
              "    .colab-df-container {\n",
              "      display:flex;\n",
              "      flex-wrap:wrap;\n",
              "      gap: 12px;\n",
              "    }\n",
              "\n",
              "    .colab-df-convert {\n",
              "      background-color: #E8F0FE;\n",
              "      border: none;\n",
              "      border-radius: 50%;\n",
              "      cursor: pointer;\n",
              "      display: none;\n",
              "      fill: #1967D2;\n",
              "      height: 32px;\n",
              "      padding: 0 0 0 0;\n",
              "      width: 32px;\n",
              "    }\n",
              "\n",
              "    .colab-df-convert:hover {\n",
              "      background-color: #E2EBFA;\n",
              "      box-shadow: 0px 1px 2px rgba(60, 64, 67, 0.3), 0px 1px 3px 1px rgba(60, 64, 67, 0.15);\n",
              "      fill: #174EA6;\n",
              "    }\n",
              "\n",
              "    [theme=dark] .colab-df-convert {\n",
              "      background-color: #3B4455;\n",
              "      fill: #D2E3FC;\n",
              "    }\n",
              "\n",
              "    [theme=dark] .colab-df-convert:hover {\n",
              "      background-color: #434B5C;\n",
              "      box-shadow: 0px 1px 3px 1px rgba(0, 0, 0, 0.15);\n",
              "      filter: drop-shadow(0px 1px 2px rgba(0, 0, 0, 0.3));\n",
              "      fill: #FFFFFF;\n",
              "    }\n",
              "  </style>\n",
              "\n",
              "      <script>\n",
              "        const buttonEl =\n",
              "          document.querySelector('#df-972e065d-5153-42b5-b1d0-b8d4a59c80d8 button.colab-df-convert');\n",
              "        buttonEl.style.display =\n",
              "          google.colab.kernel.accessAllowed ? 'block' : 'none';\n",
              "\n",
              "        async function convertToInteractive(key) {\n",
              "          const element = document.querySelector('#df-972e065d-5153-42b5-b1d0-b8d4a59c80d8');\n",
              "          const dataTable =\n",
              "            await google.colab.kernel.invokeFunction('convertToInteractive',\n",
              "                                                     [key], {});\n",
              "          if (!dataTable) return;\n",
              "\n",
              "          const docLinkHtml = 'Like what you see? Visit the ' +\n",
              "            '<a target=\"_blank\" href=https://colab.research.google.com/notebooks/data_table.ipynb>data table notebook</a>'\n",
              "            + ' to learn more about interactive tables.';\n",
              "          element.innerHTML = '';\n",
              "          dataTable['output_type'] = 'display_data';\n",
              "          await google.colab.output.renderOutput(dataTable, element);\n",
              "          const docLink = document.createElement('div');\n",
              "          docLink.innerHTML = docLinkHtml;\n",
              "          element.appendChild(docLink);\n",
              "        }\n",
              "      </script>\n",
              "    </div>\n",
              "  </div>\n",
              "  "
            ]
          },
          "metadata": {},
          "execution_count": 73
        }
      ]
    },
    {
      "cell_type": "code",
      "source": [
        "df.info()"
      ],
      "metadata": {
        "colab": {
          "base_uri": "https://localhost:8080/",
          "height": 221
        },
        "id": "AvO7AfwUJJbt",
        "outputId": "eb38aa45-c998-4b34-e786-54d3bccf299b"
      },
      "execution_count": 74,
      "outputs": [
        {
          "output_type": "display_data",
          "data": {
            "text/plain": [
              "<IPython.core.display.HTML object>"
            ],
            "text/html": [
              "\n",
              "  <style>\n",
              "    pre {\n",
              "        white-space: pre-wrap;\n",
              "    }\n",
              "  </style>\n",
              "  "
            ]
          },
          "metadata": {}
        },
        {
          "output_type": "stream",
          "name": "stdout",
          "text": [
            "<class 'pandas.core.frame.DataFrame'>\n",
            "RangeIndex: 150 entries, 0 to 149\n",
            "Data columns (total 5 columns):\n",
            " #   Column        Non-Null Count  Dtype  \n",
            "---  ------        --------------  -----  \n",
            " 0   sepal.length  150 non-null    float64\n",
            " 1   sepal.width   150 non-null    float64\n",
            " 2   petal.length  150 non-null    float64\n",
            " 3   petal.width   150 non-null    float64\n",
            " 4   variety       150 non-null    object \n",
            "dtypes: float64(4), object(1)\n",
            "memory usage: 6.0+ KB\n"
          ]
        }
      ]
    },
    {
      "cell_type": "code",
      "source": [
        "grouped = df.groupby('variety')\n",
        "stats = grouped.describe()\n",
        "print(stats)"
      ],
      "metadata": {
        "colab": {
          "base_uri": "https://localhost:8080/",
          "height": 391
        },
        "id": "ArITgCdoL7t1",
        "outputId": "a9d4bee2-bed9-4313-81e7-5a954da67dd7"
      },
      "execution_count": 93,
      "outputs": [
        {
          "output_type": "display_data",
          "data": {
            "text/plain": [
              "<IPython.core.display.HTML object>"
            ],
            "text/html": [
              "\n",
              "  <style>\n",
              "    pre {\n",
              "        white-space: pre-wrap;\n",
              "    }\n",
              "  </style>\n",
              "  "
            ]
          },
          "metadata": {}
        },
        {
          "output_type": "stream",
          "name": "stdout",
          "text": [
            "           sepal.length                                              \\\n",
            "                  count   mean       std  min    25%  50%  75%  max   \n",
            "variety                                                               \n",
            "Setosa             50.0  5.006  0.352490  4.3  4.800  5.0  5.2  5.8   \n",
            "Versicolor         50.0  5.936  0.516171  4.9  5.600  5.9  6.3  7.0   \n",
            "Virginica          50.0  6.588  0.635880  4.9  6.225  6.5  6.9  7.9   \n",
            "\n",
            "           sepal.width         ... petal.length      petal.width         \\\n",
            "                 count   mean  ...          75%  max       count   mean   \n",
            "variety                        ...                                        \n",
            "Setosa            50.0  3.428  ...        1.575  1.9        50.0  0.246   \n",
            "Versicolor        50.0  2.770  ...        4.600  5.1        50.0  1.326   \n",
            "Virginica         50.0  2.974  ...        5.875  6.9        50.0  2.026   \n",
            "\n",
            "                                               \n",
            "                 std  min  25%  50%  75%  max  \n",
            "variety                                        \n",
            "Setosa      0.105386  0.1  0.2  0.2  0.3  0.6  \n",
            "Versicolor  0.197753  1.0  1.2  1.3  1.5  1.8  \n",
            "Virginica   0.274650  1.4  1.8  2.0  2.3  2.5  \n",
            "\n",
            "[3 rows x 32 columns]\n"
          ]
        }
      ]
    },
    {
      "cell_type": "code",
      "source": [
        "stats = grouped.describe()\n",
        "formatted_stats = stats.style.format(\"{:.2f}\")\n",
        "formatted_stats"
      ],
      "metadata": {
        "colab": {
          "base_uri": "https://localhost:8080/",
          "height": 224
        },
        "id": "7F_bLRFONXbu",
        "outputId": "340b11d3-38d9-44b8-8667-ec93eba73184"
      },
      "execution_count": 103,
      "outputs": [
        {
          "output_type": "display_data",
          "data": {
            "text/plain": [
              "<IPython.core.display.HTML object>"
            ],
            "text/html": [
              "\n",
              "  <style>\n",
              "    pre {\n",
              "        white-space: pre-wrap;\n",
              "    }\n",
              "  </style>\n",
              "  "
            ]
          },
          "metadata": {}
        },
        {
          "output_type": "execute_result",
          "data": {
            "text/plain": [
              "<pandas.io.formats.style.Styler at 0x7fd3655222c0>"
            ],
            "text/html": [
              "<style type=\"text/css\">\n",
              "</style>\n",
              "<table id=\"T_18ea5\" class=\"dataframe\">\n",
              "  <thead>\n",
              "    <tr>\n",
              "      <th class=\"blank level0\" >&nbsp;</th>\n",
              "      <th id=\"T_18ea5_level0_col0\" class=\"col_heading level0 col0\" colspan=\"8\">sepal.length</th>\n",
              "      <th id=\"T_18ea5_level0_col8\" class=\"col_heading level0 col8\" colspan=\"8\">sepal.width</th>\n",
              "      <th id=\"T_18ea5_level0_col16\" class=\"col_heading level0 col16\" colspan=\"8\">petal.length</th>\n",
              "      <th id=\"T_18ea5_level0_col24\" class=\"col_heading level0 col24\" colspan=\"8\">petal.width</th>\n",
              "    </tr>\n",
              "    <tr>\n",
              "      <th class=\"blank level1\" >&nbsp;</th>\n",
              "      <th id=\"T_18ea5_level1_col0\" class=\"col_heading level1 col0\" >count</th>\n",
              "      <th id=\"T_18ea5_level1_col1\" class=\"col_heading level1 col1\" >mean</th>\n",
              "      <th id=\"T_18ea5_level1_col2\" class=\"col_heading level1 col2\" >std</th>\n",
              "      <th id=\"T_18ea5_level1_col3\" class=\"col_heading level1 col3\" >min</th>\n",
              "      <th id=\"T_18ea5_level1_col4\" class=\"col_heading level1 col4\" >25%</th>\n",
              "      <th id=\"T_18ea5_level1_col5\" class=\"col_heading level1 col5\" >50%</th>\n",
              "      <th id=\"T_18ea5_level1_col6\" class=\"col_heading level1 col6\" >75%</th>\n",
              "      <th id=\"T_18ea5_level1_col7\" class=\"col_heading level1 col7\" >max</th>\n",
              "      <th id=\"T_18ea5_level1_col8\" class=\"col_heading level1 col8\" >count</th>\n",
              "      <th id=\"T_18ea5_level1_col9\" class=\"col_heading level1 col9\" >mean</th>\n",
              "      <th id=\"T_18ea5_level1_col10\" class=\"col_heading level1 col10\" >std</th>\n",
              "      <th id=\"T_18ea5_level1_col11\" class=\"col_heading level1 col11\" >min</th>\n",
              "      <th id=\"T_18ea5_level1_col12\" class=\"col_heading level1 col12\" >25%</th>\n",
              "      <th id=\"T_18ea5_level1_col13\" class=\"col_heading level1 col13\" >50%</th>\n",
              "      <th id=\"T_18ea5_level1_col14\" class=\"col_heading level1 col14\" >75%</th>\n",
              "      <th id=\"T_18ea5_level1_col15\" class=\"col_heading level1 col15\" >max</th>\n",
              "      <th id=\"T_18ea5_level1_col16\" class=\"col_heading level1 col16\" >count</th>\n",
              "      <th id=\"T_18ea5_level1_col17\" class=\"col_heading level1 col17\" >mean</th>\n",
              "      <th id=\"T_18ea5_level1_col18\" class=\"col_heading level1 col18\" >std</th>\n",
              "      <th id=\"T_18ea5_level1_col19\" class=\"col_heading level1 col19\" >min</th>\n",
              "      <th id=\"T_18ea5_level1_col20\" class=\"col_heading level1 col20\" >25%</th>\n",
              "      <th id=\"T_18ea5_level1_col21\" class=\"col_heading level1 col21\" >50%</th>\n",
              "      <th id=\"T_18ea5_level1_col22\" class=\"col_heading level1 col22\" >75%</th>\n",
              "      <th id=\"T_18ea5_level1_col23\" class=\"col_heading level1 col23\" >max</th>\n",
              "      <th id=\"T_18ea5_level1_col24\" class=\"col_heading level1 col24\" >count</th>\n",
              "      <th id=\"T_18ea5_level1_col25\" class=\"col_heading level1 col25\" >mean</th>\n",
              "      <th id=\"T_18ea5_level1_col26\" class=\"col_heading level1 col26\" >std</th>\n",
              "      <th id=\"T_18ea5_level1_col27\" class=\"col_heading level1 col27\" >min</th>\n",
              "      <th id=\"T_18ea5_level1_col28\" class=\"col_heading level1 col28\" >25%</th>\n",
              "      <th id=\"T_18ea5_level1_col29\" class=\"col_heading level1 col29\" >50%</th>\n",
              "      <th id=\"T_18ea5_level1_col30\" class=\"col_heading level1 col30\" >75%</th>\n",
              "      <th id=\"T_18ea5_level1_col31\" class=\"col_heading level1 col31\" >max</th>\n",
              "    </tr>\n",
              "    <tr>\n",
              "      <th class=\"index_name level0\" >variety</th>\n",
              "      <th class=\"blank col0\" >&nbsp;</th>\n",
              "      <th class=\"blank col1\" >&nbsp;</th>\n",
              "      <th class=\"blank col2\" >&nbsp;</th>\n",
              "      <th class=\"blank col3\" >&nbsp;</th>\n",
              "      <th class=\"blank col4\" >&nbsp;</th>\n",
              "      <th class=\"blank col5\" >&nbsp;</th>\n",
              "      <th class=\"blank col6\" >&nbsp;</th>\n",
              "      <th class=\"blank col7\" >&nbsp;</th>\n",
              "      <th class=\"blank col8\" >&nbsp;</th>\n",
              "      <th class=\"blank col9\" >&nbsp;</th>\n",
              "      <th class=\"blank col10\" >&nbsp;</th>\n",
              "      <th class=\"blank col11\" >&nbsp;</th>\n",
              "      <th class=\"blank col12\" >&nbsp;</th>\n",
              "      <th class=\"blank col13\" >&nbsp;</th>\n",
              "      <th class=\"blank col14\" >&nbsp;</th>\n",
              "      <th class=\"blank col15\" >&nbsp;</th>\n",
              "      <th class=\"blank col16\" >&nbsp;</th>\n",
              "      <th class=\"blank col17\" >&nbsp;</th>\n",
              "      <th class=\"blank col18\" >&nbsp;</th>\n",
              "      <th class=\"blank col19\" >&nbsp;</th>\n",
              "      <th class=\"blank col20\" >&nbsp;</th>\n",
              "      <th class=\"blank col21\" >&nbsp;</th>\n",
              "      <th class=\"blank col22\" >&nbsp;</th>\n",
              "      <th class=\"blank col23\" >&nbsp;</th>\n",
              "      <th class=\"blank col24\" >&nbsp;</th>\n",
              "      <th class=\"blank col25\" >&nbsp;</th>\n",
              "      <th class=\"blank col26\" >&nbsp;</th>\n",
              "      <th class=\"blank col27\" >&nbsp;</th>\n",
              "      <th class=\"blank col28\" >&nbsp;</th>\n",
              "      <th class=\"blank col29\" >&nbsp;</th>\n",
              "      <th class=\"blank col30\" >&nbsp;</th>\n",
              "      <th class=\"blank col31\" >&nbsp;</th>\n",
              "    </tr>\n",
              "  </thead>\n",
              "  <tbody>\n",
              "    <tr>\n",
              "      <th id=\"T_18ea5_level0_row0\" class=\"row_heading level0 row0\" >Setosa</th>\n",
              "      <td id=\"T_18ea5_row0_col0\" class=\"data row0 col0\" >50.00</td>\n",
              "      <td id=\"T_18ea5_row0_col1\" class=\"data row0 col1\" >5.01</td>\n",
              "      <td id=\"T_18ea5_row0_col2\" class=\"data row0 col2\" >0.35</td>\n",
              "      <td id=\"T_18ea5_row0_col3\" class=\"data row0 col3\" >4.30</td>\n",
              "      <td id=\"T_18ea5_row0_col4\" class=\"data row0 col4\" >4.80</td>\n",
              "      <td id=\"T_18ea5_row0_col5\" class=\"data row0 col5\" >5.00</td>\n",
              "      <td id=\"T_18ea5_row0_col6\" class=\"data row0 col6\" >5.20</td>\n",
              "      <td id=\"T_18ea5_row0_col7\" class=\"data row0 col7\" >5.80</td>\n",
              "      <td id=\"T_18ea5_row0_col8\" class=\"data row0 col8\" >50.00</td>\n",
              "      <td id=\"T_18ea5_row0_col9\" class=\"data row0 col9\" >3.43</td>\n",
              "      <td id=\"T_18ea5_row0_col10\" class=\"data row0 col10\" >0.38</td>\n",
              "      <td id=\"T_18ea5_row0_col11\" class=\"data row0 col11\" >2.30</td>\n",
              "      <td id=\"T_18ea5_row0_col12\" class=\"data row0 col12\" >3.20</td>\n",
              "      <td id=\"T_18ea5_row0_col13\" class=\"data row0 col13\" >3.40</td>\n",
              "      <td id=\"T_18ea5_row0_col14\" class=\"data row0 col14\" >3.68</td>\n",
              "      <td id=\"T_18ea5_row0_col15\" class=\"data row0 col15\" >4.40</td>\n",
              "      <td id=\"T_18ea5_row0_col16\" class=\"data row0 col16\" >50.00</td>\n",
              "      <td id=\"T_18ea5_row0_col17\" class=\"data row0 col17\" >1.46</td>\n",
              "      <td id=\"T_18ea5_row0_col18\" class=\"data row0 col18\" >0.17</td>\n",
              "      <td id=\"T_18ea5_row0_col19\" class=\"data row0 col19\" >1.00</td>\n",
              "      <td id=\"T_18ea5_row0_col20\" class=\"data row0 col20\" >1.40</td>\n",
              "      <td id=\"T_18ea5_row0_col21\" class=\"data row0 col21\" >1.50</td>\n",
              "      <td id=\"T_18ea5_row0_col22\" class=\"data row0 col22\" >1.58</td>\n",
              "      <td id=\"T_18ea5_row0_col23\" class=\"data row0 col23\" >1.90</td>\n",
              "      <td id=\"T_18ea5_row0_col24\" class=\"data row0 col24\" >50.00</td>\n",
              "      <td id=\"T_18ea5_row0_col25\" class=\"data row0 col25\" >0.25</td>\n",
              "      <td id=\"T_18ea5_row0_col26\" class=\"data row0 col26\" >0.11</td>\n",
              "      <td id=\"T_18ea5_row0_col27\" class=\"data row0 col27\" >0.10</td>\n",
              "      <td id=\"T_18ea5_row0_col28\" class=\"data row0 col28\" >0.20</td>\n",
              "      <td id=\"T_18ea5_row0_col29\" class=\"data row0 col29\" >0.20</td>\n",
              "      <td id=\"T_18ea5_row0_col30\" class=\"data row0 col30\" >0.30</td>\n",
              "      <td id=\"T_18ea5_row0_col31\" class=\"data row0 col31\" >0.60</td>\n",
              "    </tr>\n",
              "    <tr>\n",
              "      <th id=\"T_18ea5_level0_row1\" class=\"row_heading level0 row1\" >Versicolor</th>\n",
              "      <td id=\"T_18ea5_row1_col0\" class=\"data row1 col0\" >50.00</td>\n",
              "      <td id=\"T_18ea5_row1_col1\" class=\"data row1 col1\" >5.94</td>\n",
              "      <td id=\"T_18ea5_row1_col2\" class=\"data row1 col2\" >0.52</td>\n",
              "      <td id=\"T_18ea5_row1_col3\" class=\"data row1 col3\" >4.90</td>\n",
              "      <td id=\"T_18ea5_row1_col4\" class=\"data row1 col4\" >5.60</td>\n",
              "      <td id=\"T_18ea5_row1_col5\" class=\"data row1 col5\" >5.90</td>\n",
              "      <td id=\"T_18ea5_row1_col6\" class=\"data row1 col6\" >6.30</td>\n",
              "      <td id=\"T_18ea5_row1_col7\" class=\"data row1 col7\" >7.00</td>\n",
              "      <td id=\"T_18ea5_row1_col8\" class=\"data row1 col8\" >50.00</td>\n",
              "      <td id=\"T_18ea5_row1_col9\" class=\"data row1 col9\" >2.77</td>\n",
              "      <td id=\"T_18ea5_row1_col10\" class=\"data row1 col10\" >0.31</td>\n",
              "      <td id=\"T_18ea5_row1_col11\" class=\"data row1 col11\" >2.00</td>\n",
              "      <td id=\"T_18ea5_row1_col12\" class=\"data row1 col12\" >2.52</td>\n",
              "      <td id=\"T_18ea5_row1_col13\" class=\"data row1 col13\" >2.80</td>\n",
              "      <td id=\"T_18ea5_row1_col14\" class=\"data row1 col14\" >3.00</td>\n",
              "      <td id=\"T_18ea5_row1_col15\" class=\"data row1 col15\" >3.40</td>\n",
              "      <td id=\"T_18ea5_row1_col16\" class=\"data row1 col16\" >50.00</td>\n",
              "      <td id=\"T_18ea5_row1_col17\" class=\"data row1 col17\" >4.26</td>\n",
              "      <td id=\"T_18ea5_row1_col18\" class=\"data row1 col18\" >0.47</td>\n",
              "      <td id=\"T_18ea5_row1_col19\" class=\"data row1 col19\" >3.00</td>\n",
              "      <td id=\"T_18ea5_row1_col20\" class=\"data row1 col20\" >4.00</td>\n",
              "      <td id=\"T_18ea5_row1_col21\" class=\"data row1 col21\" >4.35</td>\n",
              "      <td id=\"T_18ea5_row1_col22\" class=\"data row1 col22\" >4.60</td>\n",
              "      <td id=\"T_18ea5_row1_col23\" class=\"data row1 col23\" >5.10</td>\n",
              "      <td id=\"T_18ea5_row1_col24\" class=\"data row1 col24\" >50.00</td>\n",
              "      <td id=\"T_18ea5_row1_col25\" class=\"data row1 col25\" >1.33</td>\n",
              "      <td id=\"T_18ea5_row1_col26\" class=\"data row1 col26\" >0.20</td>\n",
              "      <td id=\"T_18ea5_row1_col27\" class=\"data row1 col27\" >1.00</td>\n",
              "      <td id=\"T_18ea5_row1_col28\" class=\"data row1 col28\" >1.20</td>\n",
              "      <td id=\"T_18ea5_row1_col29\" class=\"data row1 col29\" >1.30</td>\n",
              "      <td id=\"T_18ea5_row1_col30\" class=\"data row1 col30\" >1.50</td>\n",
              "      <td id=\"T_18ea5_row1_col31\" class=\"data row1 col31\" >1.80</td>\n",
              "    </tr>\n",
              "    <tr>\n",
              "      <th id=\"T_18ea5_level0_row2\" class=\"row_heading level0 row2\" >Virginica</th>\n",
              "      <td id=\"T_18ea5_row2_col0\" class=\"data row2 col0\" >50.00</td>\n",
              "      <td id=\"T_18ea5_row2_col1\" class=\"data row2 col1\" >6.59</td>\n",
              "      <td id=\"T_18ea5_row2_col2\" class=\"data row2 col2\" >0.64</td>\n",
              "      <td id=\"T_18ea5_row2_col3\" class=\"data row2 col3\" >4.90</td>\n",
              "      <td id=\"T_18ea5_row2_col4\" class=\"data row2 col4\" >6.22</td>\n",
              "      <td id=\"T_18ea5_row2_col5\" class=\"data row2 col5\" >6.50</td>\n",
              "      <td id=\"T_18ea5_row2_col6\" class=\"data row2 col6\" >6.90</td>\n",
              "      <td id=\"T_18ea5_row2_col7\" class=\"data row2 col7\" >7.90</td>\n",
              "      <td id=\"T_18ea5_row2_col8\" class=\"data row2 col8\" >50.00</td>\n",
              "      <td id=\"T_18ea5_row2_col9\" class=\"data row2 col9\" >2.97</td>\n",
              "      <td id=\"T_18ea5_row2_col10\" class=\"data row2 col10\" >0.32</td>\n",
              "      <td id=\"T_18ea5_row2_col11\" class=\"data row2 col11\" >2.20</td>\n",
              "      <td id=\"T_18ea5_row2_col12\" class=\"data row2 col12\" >2.80</td>\n",
              "      <td id=\"T_18ea5_row2_col13\" class=\"data row2 col13\" >3.00</td>\n",
              "      <td id=\"T_18ea5_row2_col14\" class=\"data row2 col14\" >3.18</td>\n",
              "      <td id=\"T_18ea5_row2_col15\" class=\"data row2 col15\" >3.80</td>\n",
              "      <td id=\"T_18ea5_row2_col16\" class=\"data row2 col16\" >50.00</td>\n",
              "      <td id=\"T_18ea5_row2_col17\" class=\"data row2 col17\" >5.55</td>\n",
              "      <td id=\"T_18ea5_row2_col18\" class=\"data row2 col18\" >0.55</td>\n",
              "      <td id=\"T_18ea5_row2_col19\" class=\"data row2 col19\" >4.50</td>\n",
              "      <td id=\"T_18ea5_row2_col20\" class=\"data row2 col20\" >5.10</td>\n",
              "      <td id=\"T_18ea5_row2_col21\" class=\"data row2 col21\" >5.55</td>\n",
              "      <td id=\"T_18ea5_row2_col22\" class=\"data row2 col22\" >5.88</td>\n",
              "      <td id=\"T_18ea5_row2_col23\" class=\"data row2 col23\" >6.90</td>\n",
              "      <td id=\"T_18ea5_row2_col24\" class=\"data row2 col24\" >50.00</td>\n",
              "      <td id=\"T_18ea5_row2_col25\" class=\"data row2 col25\" >2.03</td>\n",
              "      <td id=\"T_18ea5_row2_col26\" class=\"data row2 col26\" >0.27</td>\n",
              "      <td id=\"T_18ea5_row2_col27\" class=\"data row2 col27\" >1.40</td>\n",
              "      <td id=\"T_18ea5_row2_col28\" class=\"data row2 col28\" >1.80</td>\n",
              "      <td id=\"T_18ea5_row2_col29\" class=\"data row2 col29\" >2.00</td>\n",
              "      <td id=\"T_18ea5_row2_col30\" class=\"data row2 col30\" >2.30</td>\n",
              "      <td id=\"T_18ea5_row2_col31\" class=\"data row2 col31\" >2.50</td>\n",
              "    </tr>\n",
              "  </tbody>\n",
              "</table>\n"
            ]
          },
          "metadata": {},
          "execution_count": 103
        }
      ]
    }
  ]
}