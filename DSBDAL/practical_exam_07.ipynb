{
  "cells": [
    {
      "cell_type": "markdown",
      "metadata": {
        "id": "3-hVC83iwYmS"
      },
      "source": [
        "# Problem Statement 7\n",
        "\n",
        "1. Implement logistic regression using Python/R to perform classification on \n",
        "Social_Network_Ads.csv dataset.\n",
        "2. Compute Confusion matrix to find TP, FP, TN, FN, Accuracy, Error rate, Precision, Recall\n",
        "on the given dataset."
      ]
    },
    {
      "cell_type": "markdown",
      "metadata": {
        "id": "t_YJ-uqLmRuD"
      },
      "source": [
        "This dataset contains information of users in a social network. Those informations are the user id the gender the age and the estimated salary. A car company has just launched their brand new luxury SUV. And we're trying to see which of these users of the social network are going to buy this brand new SUV And the last column here tells If yes or no the user bought this SUV we are going to build a model that is going to predict if a user is going to buy or not the SUV based on two variables which are going to be the age and the estimated salary. So our matrix of feature is only going to be these two columns. We want to find some correlations between the age and the estimated salary of a user and his decision to purchase yes or no the SUV.\n"
      ]
    },
    {
      "cell_type": "markdown",
      "metadata": {
        "id": "sgTgwccsk5Yu"
      },
      "source": [
        "**Step 1 | Data Pre-Processing**"
      ]
    },
    {
      "cell_type": "markdown",
      "metadata": {
        "id": "bKWN0MOblEKa"
      },
      "source": [
        "**Importing the Libraries**"
      ]
    },
    {
      "cell_type": "code",
      "execution_count": null,
      "metadata": {
        "id": "8cIjONoJj8u0"
      },
      "outputs": [],
      "source": [
        "import pandas as pd"
      ]
    },
    {
      "cell_type": "code",
      "execution_count": null,
      "metadata": {
        "id": "2QZwg6ypj8xs"
      },
      "outputs": [],
      "source": [
        "from sklearn.model_selection import train_test_split\n",
        "from sklearn import metrics\n",
        "import seaborn as sns\n",
        "import matplotlib.pyplot as plt"
      ]
    },
    {
      "cell_type": "markdown",
      "metadata": {
        "id": "bM9O8a0YlNWk"
      },
      "source": [
        "**Importing the dataset**"
      ]
    },
    {
      "cell_type": "code",
      "execution_count": null,
      "metadata": {
        "id": "vfPLWJHRlM-4"
      },
      "outputs": [],
      "source": [
        "dataset = pd.read_csv(\"social_network_ads.csv\")\n",
        "dataset"
      ]
    },
    {
      "cell_type": "code",
      "execution_count": null,
      "metadata": {
        "id": "dcEdpFXJ0WrL"
      },
      "outputs": [],
      "source": [
        "dataset.shape"
      ]
    },
    {
      "cell_type": "code",
      "execution_count": null,
      "metadata": {
        "id": "8LWipIjDj7yn"
      },
      "outputs": [],
      "source": [
        "df = dataset.isnull().sum()\n",
        "df"
      ]
    },
    {
      "cell_type": "code",
      "execution_count": null,
      "metadata": {
        "id": "XheC72BI0H0T"
      },
      "outputs": [],
      "source": [
        "dataset.describe()"
      ]
    },
    {
      "cell_type": "code",
      "execution_count": null,
      "metadata": {
        "id": "mPwI6bD81KwV"
      },
      "outputs": [],
      "source": [
        "dataset.dtypes"
      ]
    },
    {
      "cell_type": "code",
      "execution_count": null,
      "metadata": {
        "id": "KMYnxVOH1TcT"
      },
      "outputs": [],
      "source": [
        "dataset.drop_duplicates()"
      ]
    },
    {
      "cell_type": "code",
      "execution_count": null,
      "metadata": {
        "id": "5-sCkzL21adM"
      },
      "outputs": [],
      "source": [
        "dataset.shape"
      ]
    },
    {
      "cell_type": "markdown",
      "metadata": {
        "id": "SXEIiYJ03RTt"
      },
      "source": [
        "**EDA**"
      ]
    },
    {
      "cell_type": "code",
      "execution_count": null,
      "metadata": {
        "id": "ihkCOQ8W3S7q"
      },
      "outputs": [],
      "source": [
        "import seaborn as sns\n",
        "plt.figure(figsize=(10, 8))\n",
        "sns.scatterplot(x='Age',y='EstimatedSalary',hue='Purchased',data=dataset,s=100)\n",
        "plt.title(\"Purchase details\",y=1.015, fontsize=20)\n",
        "plt.xlabel(\"Age\",labelpad=13)\n",
        "plt.ylabel(\"EstimatedSalary\", labelpad = 13)\n",
        "ax=plt.gca()"
      ]
    },
    {
      "cell_type": "markdown",
      "metadata": {
        "id": "eHCKYPHylT5K"
      },
      "source": [
        "**Splitting the dataset into the Training set and Test set**"
      ]
    },
    {
      "cell_type": "code",
      "execution_count": null,
      "metadata": {
        "id": "o9msgi0sj72h"
      },
      "outputs": [],
      "source": [
        "from sklearn.model_selection import train_test_split\n",
        "x=dataset[['Age','EstimatedSalary']].values\n",
        "y=dataset['Purchased'].values\n",
        "X_train,X_test,y_train,y_test = train_test_split(x,y,test_size=0.25,random_state =0)\n"
      ]
    },
    {
      "cell_type": "markdown",
      "metadata": {
        "id": "AsfmGeH6lZ0O"
      },
      "source": [
        "**Feature Scaling**"
      ]
    },
    {
      "cell_type": "code",
      "execution_count": null,
      "metadata": {
        "id": "Xfifr6tlj77A"
      },
      "outputs": [],
      "source": [
        "from sklearn.preprocessing import StandardScaler\n",
        "scaler = StandardScaler()\n",
        "scaler.fit(X_train)\n",
        "x_train_scaled  =  scaler.transform(X_train)\n",
        "x_test_scaled = scaler.transform(X_test)"
      ]
    },
    {
      "cell_type": "markdown",
      "metadata": {
        "id": "UkiSpylklf7z"
      },
      "source": [
        "**Step 2 | Logistic Regression Model**"
      ]
    },
    {
      "cell_type": "markdown",
      "metadata": {
        "id": "rhZgd1t_mfYg"
      },
      "source": [
        "The library for this job which is going to be the linear model library and it is called linear because the logistic regression is a linear classifier which means that here since we're in two dimensions, our two categories of users are going to be separated by a straight line. Then import the logistic regression class. Next we will create a new object from this class which is going to be our classifier that we are going to fit on our training set."
      ]
    },
    {
      "cell_type": "markdown",
      "metadata": {
        "id": "oCUEcLBflmPn"
      },
      "source": [
        "**Fitting Logistic Regression to the Training set**"
      ]
    },
    {
      "cell_type": "code",
      "execution_count": null,
      "metadata": {
        "id": "l8YSpSphj8FN"
      },
      "outputs": [],
      "source": [
        "from sklearn.linear_model import LogisticRegression\n",
        "logistic_regression = LogisticRegression()\n",
        "logistic_regression.fit(X_train,y_train)\n",
        "y_pred = logistic_regression.predict(X_test)"
      ]
    },
    {
      "cell_type": "markdown",
      "metadata": {
        "id": "0DpkLwdRlvXX"
      },
      "source": [
        "**Step 3 | Predection**"
      ]
    },
    {
      "cell_type": "code",
      "execution_count": null,
      "metadata": {
        "id": "5X1PxviQlp0C"
      },
      "outputs": [],
      "source": [
        "logistic_regression.coef_"
      ]
    },
    {
      "cell_type": "code",
      "execution_count": null,
      "metadata": {
        "id": "AEhOSO3tDOus"
      },
      "outputs": [],
      "source": [
        "logistic_regression.intercept_"
      ]
    },
    {
      "cell_type": "code",
      "execution_count": null,
      "metadata": {
        "id": "ChIUbTNIEHz9"
      },
      "outputs": [],
      "source": [
        "logistic_regression.predict([[20,30000]])"
      ]
    },
    {
      "cell_type": "code",
      "execution_count": null,
      "metadata": {
        "id": "oxqoFXyMDb38"
      },
      "outputs": [],
      "source": [
        "logistic_regression.predict_proba([[20,30000]])"
      ]
    },
    {
      "cell_type": "code",
      "execution_count": null,
      "metadata": {
        "id": "CvTYSarYD6hz"
      },
      "outputs": [],
      "source": [
        "logistic_regression.predict_proba(X_test)\n"
      ]
    },
    {
      "cell_type": "markdown",
      "metadata": {
        "id": "vdX1IU-Fl7Ak"
      },
      "source": [
        "**Step 4 | Evaluating The Predection**"
      ]
    },
    {
      "cell_type": "markdown",
      "metadata": {
        "id": "zPdZLTTQmqa9"
      },
      "source": [
        "We predicted the test results and now we will evaluate if our logistic regression model learned and understood correctly. So this confusion matrix is going to contain the correct predictions that our model made on the set as well as the incorrect predictions."
      ]
    },
    {
      "cell_type": "markdown",
      "metadata": {
        "id": "bxjKgSYvmBDn"
      },
      "source": [
        "**Making the Confusion Matrix**"
      ]
    },
    {
      "cell_type": "code",
      "execution_count": null,
      "metadata": {
        "id": "2_afjfcjlp88"
      },
      "outputs": [],
      "source": [
        "from sklearn.metrics import plot_roc_curve, confusion_matrix, f1_score,precision_score,recall_score,accuracy_score\n",
        "cm = metrics.confusion_matrix(y_test,y_pred)\n",
        "cm\n",
        "tn, fp, fn, tp = cm.ravel()\n",
        "(tn, fp, fn, tp)"
      ]
    },
    {
      "cell_type": "code",
      "execution_count": null,
      "metadata": {
        "id": "t0qS3dTtwYm3"
      },
      "outputs": [],
      "source": [
        "# Assigning columns names\n",
        "cm_df = pd.DataFrame(cm, \n",
        "            columns = ['Predicted Negative', 'Predicted Positive'],\n",
        "            index = ['Actual Negative', 'Actual Positive'])\n",
        "# Showing the confusion matrix\n",
        "cm_df"
      ]
    },
    {
      "cell_type": "markdown",
      "metadata": {
        "id": "D3P62v98wYm4"
      },
      "source": [
        "#   \n",
        "Accuracy = (TP + TN) / All Predictions\n",
        "\n",
        "(Recall) = TP / (FN + TP)\n",
        "\n",
        "Precision = TP / (TP + FP)\n",
        "\n",
        "F1 Score = 2 * (Precision * Sensitivity) / (Precision + Sensitivity)"
      ]
    },
    {
      "cell_type": "markdown",
      "metadata": {
        "id": "baXstS_-wYm5"
      },
      "source": [
        "Error rate (ERR) is calculated as the number of all incorrect predictions divided by the total number of the dataset. The best error rate is 0.0, whereas the worst is 1.0. Error rate is calculated as the total number of two incorrect predictions (FN + FP) divided by the total number of a dataset (P + N)."
      ]
    },
    {
      "cell_type": "code",
      "execution_count": null,
      "metadata": {
        "id": "FRcQPX_mwYm6"
      },
      "outputs": [],
      "source": [
        "\n",
        "p=metrics.precision_score(y_test, y_pred)\n",
        "r=metrics.recall_score(y_test, y_pred)\n",
        "a=metrics.accuracy_score(y_test, y_pred)\n",
        "f1=metrics.f1_score(y_test, y_pred)\n",
        "print(\"precision_score:\",p)\n",
        "print(\"recall_score:\",r)\n",
        "print(\"accuracy_score:\",a)\n",
        "print(\"f1_score:\",f1)\n",
        "metrics.plot_roc_curve(logistic_regression,X_test,y_test)"
      ]
    },
    {
      "cell_type": "code",
      "execution_count": null,
      "metadata": {
        "id": "r03n1qrowYm7"
      },
      "outputs": [],
      "source": [
        "from sklearn.metrics import classification_report\n",
        "print(classification_report(y_test, y_pred))"
      ]
    },
    {
      "cell_type": "code",
      "execution_count": null,
      "metadata": {
        "id": "0wmlywj3wYm8"
      },
      "outputs": [],
      "source": [
        "fig,ax=plt.subplots(figsize=(3,3))\n",
        "ax=sns.heatmap(cm,annot=True,cbar=False)\n",
        "plt.xlabel(\"Actual Label\")\n",
        "plt.ylabel(\"Predicted Label\")\n"
      ]
    },
    {
      "cell_type": "code",
      "execution_count": null,
      "metadata": {
        "id": "IjwdaWEiwYm9"
      },
      "outputs": [],
      "source": [
        "err=(fn+fp)/(tn+fp+fn+tp)\n",
        "err"
      ]
    }
  ],
  "metadata": {
    "colab": {
      "provenance": []
    },
    "kernelspec": {
      "display_name": "Python 3 (ipykernel)",
      "language": "python",
      "name": "python3"
    },
    "language_info": {
      "codemirror_mode": {
        "name": "ipython",
        "version": 3
      },
      "file_extension": ".py",
      "mimetype": "text/x-python",
      "name": "python",
      "nbconvert_exporter": "python",
      "pygments_lexer": "ipython3",
      "version": "3.8.8"
    }
  },
  "nbformat": 4,
  "nbformat_minor": 0
}