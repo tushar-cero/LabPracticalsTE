{
  "nbformat": 4,
  "nbformat_minor": 0,
  "metadata": {
    "colab": {
      "provenance": []
    },
    "kernelspec": {
      "name": "python3",
      "display_name": "Python 3"
    },
    "language_info": {
      "name": "python"
    }
  },
  "cells": [
    {
      "cell_type": "markdown",
      "source": [
        "# Problem Statement\n",
        "Implement depth first search algorithm and Breadth First Search algorithm, Use an undirected graph and develop a recursive algorithm for searching all the vertices of a graph or tree data structure."
      ],
      "metadata": {
        "id": "NOAos3VakdIp"
      }
    },
    {
      "cell_type": "code",
      "execution_count": 1,
      "metadata": {
        "colab": {
          "base_uri": "https://localhost:8080/"
        },
        "id": "Pqe9_LX7kcXr",
        "outputId": "1823ee6a-f1eb-4810-e1c3-49c4b1ed1d77"
      },
      "outputs": [
        {
          "output_type": "stream",
          "name": "stdout",
          "text": [
            "Depth First Traversal (starting from vertex 2):\n",
            "2 0 1 4 3 \n",
            "Breadth First Traversal (starting from vertex 2):\n",
            "2 0 3 1 4 "
          ]
        }
      ],
      "source": [
        "class Graph:\n",
        "    def __init__(self):\n",
        "        self.graph = {}\n",
        "    \n",
        "    def add_edge(self, u, v):\n",
        "        if u not in self.graph:\n",
        "            self.graph[u] = []\n",
        "        if v not in self.graph:\n",
        "            self.graph[v] = []\n",
        "        self.graph[u].append(v)\n",
        "        self.graph[v].append(u)\n",
        "\n",
        "    def dfs_util(self, v, visited):\n",
        "        visited.add(v)\n",
        "        print(v, end=' ')\n",
        "        for neighbor in self.graph[v]:\n",
        "            if neighbor not in visited:\n",
        "                self.dfs_util(neighbor, visited)\n",
        "\n",
        "    def dfs(self, start):\n",
        "        visited = set()\n",
        "        self.dfs_util(start, visited)\n",
        "\n",
        "    def bfs(self, start):\n",
        "        visited = set()\n",
        "        visited.add(start)\n",
        "        queue = [start] \n",
        "        while queue:\n",
        "            curr_vertex = queue.pop(0) \n",
        "            print(curr_vertex, end=' ')\n",
        "            for neighbor in self.graph[curr_vertex]:\n",
        "                if neighbor not in visited:\n",
        "                    visited.add(neighbor)\n",
        "                    queue.append(neighbor) \n",
        "\n",
        "# driver code to test the Graph class and BFS algorithm\n",
        "g = Graph()\n",
        "g.add_edge(0, 1)\n",
        "g.add_edge(0, 2)\n",
        "g.add_edge(1, 4)\n",
        "g.add_edge(2, 3)\n",
        "\n",
        "print(\"Depth First Traversal (starting from vertex 2):\")\n",
        "g.dfs(2)\n",
        "\n",
        "print(\"\\nBreadth First Traversal (starting from vertex 2):\")\n",
        "g.bfs(2)"
      ]
    }
  ]
}