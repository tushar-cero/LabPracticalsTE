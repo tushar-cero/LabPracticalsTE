{
  "nbformat": 4,
  "nbformat_minor": 0,
  "metadata": {
    "colab": {
      "provenance": []
    },
    "kernelspec": {
      "name": "python3",
      "display_name": "Python 3"
    },
    "language_info": {
      "name": "python"
    }
  },
  "cells": [
    {
      "cell_type": "markdown",
      "source": [
        "# Problem Statement\n",
        "Implement any one of the following Expert System\n",
        "1. Information management\n",
        "2. Hospitals and medical facilities\n",
        "3. Help desks management\n",
        "4. Employee performance evaluation\n",
        "5. Stock market trading\n",
        "6. Airline scheduling and cargo schedules"
      ],
      "metadata": {
        "id": "NOAos3VakdIp"
      }
    },
    {
      "cell_type": "markdown",
      "source": [
        "Here, we have implemented Arline scheduling and cargo schedules. "
      ],
      "metadata": {
        "id": "rJA9hSgT29gk"
      }
    },
    {
      "cell_type": "code",
      "execution_count": 8,
      "metadata": {
        "colab": {
          "base_uri": "https://localhost:8080/"
        },
        "id": "Pqe9_LX7kcXr",
        "outputId": "9b671591-d5db-4691-be11-8529540e701a"
      },
      "outputs": [
        {
          "output_type": "stream",
          "name": "stdout",
          "text": [
            "Schedule Flight A in the morning with 2 aircraft available.\n"
          ]
        }
      ],
      "source": [
        "class FlightScheduleExpert:\n",
        "    def __init__(self):\n",
        "        self.rules = [\n",
        "            {\n",
        "                \"conditions\": [\n",
        "                    lambda data: data[\"departure_time\"] >= 8 and data[\"departure_time\"] <= 12,\n",
        "                    lambda data: data[\"available_aircraft\"] >= 2\n",
        "                ],\n",
        "                \"conclusion\": \"Schedule Flight A in the morning with 2 aircraft available.\"\n",
        "            },\n",
        "            {\n",
        "                \"conditions\": [\n",
        "                    lambda data: data[\"departure_time\"] >= 12 and data[\"departure_time\"] <= 18,\n",
        "                    lambda data: data[\"arrival_time\"] >= 16 and data[\"arrival_time\"] <= 22,\n",
        "                    lambda data: data[\"available_aircraft\"] >= 3\n",
        "                ],\n",
        "                \"conclusion\": \"Schedule Flight B in the afternoon with 3 aircraft available.\"\n",
        "            },\n",
        "            {\n",
        "                \"conditions\": [\n",
        "                    lambda data: data[\"departure_time\"] >= 18 and data[\"departure_time\"] <= 22,\n",
        "                    lambda data: data[\"arrival_time\"] >= 20 and data[\"arrival_time\"] <= 24,\n",
        "                    lambda data: data[\"available_aircraft\"] >= 1\n",
        "                ],\n",
        "                \"conclusion\": \"Schedule Flight C in the evening with 1 aircraft available.\"\n",
        "            },\n",
        "            {\n",
        "                \"conditions\": [\n",
        "                    lambda data: data[\"departure_time\"] >= 6 and data[\"departure_time\"] <= 10,\n",
        "                    lambda data: data[\"arrival_time\"] >= 14 and data[\"arrival_time\"] <= 18,\n",
        "                    lambda data: data[\"available_aircraft\"] >= 2\n",
        "                ],\n",
        "                \"conclusion\": \"Schedule Flight D in the morning with 2 aircraft available.\"\n",
        "            },\n",
        "            {\n",
        "                \"conditions\": [\n",
        "                    lambda data: data[\"departure_time\"] >= 16 and data[\"departure_time\"] <= 20,\n",
        "                    lambda data: data[\"arrival_time\"] >= 22 and data[\"arrival_time\"] <= 24,\n",
        "                    lambda data: data[\"available_aircraft\"] >= 3\n",
        "                ],\n",
        "                \"conclusion\": \"Schedule Flight E in the afternoon with 3 aircraft available.\"\n",
        "            }\n",
        "        ]\n",
        "\n",
        "    def schedule_flight(self, data):\n",
        "        for rule in self.rules:\n",
        "            if all(condition(data) for condition in rule[\"conditions\"]):\n",
        "                return rule[\"conclusion\"]\n",
        "\n",
        "        return \"Unable to determine the optimal flight schedule.\"\n",
        "\n",
        "\n",
        "# Example usage\n",
        "if __name__ == \"__main__\":\n",
        "    expert = FlightScheduleExpert()\n",
        "    data = {\n",
        "        \"departure_time\": 10,\n",
        "        \"arrival_time\": 14,\n",
        "        \"available_aircraft\": 2\n",
        "    }\n",
        "    result = expert.schedule_flight(data)\n",
        "    print(result)\n"
      ]
    }
  ]
}