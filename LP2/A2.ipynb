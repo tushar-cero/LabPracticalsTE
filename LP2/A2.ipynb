{
  "nbformat": 4,
  "nbformat_minor": 0,
  "metadata": {
    "colab": {
      "provenance": []
    },
    "kernelspec": {
      "name": "python3",
      "display_name": "Python 3"
    },
    "language_info": {
      "name": "python"
    }
  },
  "cells": [
    {
      "cell_type": "markdown",
      "source": [
        "# Problem Statement\n",
        "Implement A star Algorithm for any game search problem."
      ],
      "metadata": {
        "id": "NOAos3VakdIp"
      }
    },
    {
      "cell_type": "code",
      "execution_count": 2,
      "metadata": {
        "colab": {
          "base_uri": "https://localhost:8080/"
        },
        "id": "Pqe9_LX7kcXr",
        "outputId": "c869026e-8760-4ac2-aaa0-c2eb6c333b06"
      },
      "outputs": [
        {
          "output_type": "stream",
          "name": "stdout",
          "text": [
            "Optimal path: [(0, 0), (1, 0), (1, 1), (2, 1)]\n",
            "Optimal path cost: 3\n"
          ]
        }
      ],
      "source": [
        "import heapq\n",
        "from collections import defaultdict\n",
        "\n",
        "class Graph:\n",
        "    def __init__(self):\n",
        "        self.graph = defaultdict(list)\n",
        "    \n",
        "    def add_edge(self, u, v, w):\n",
        "        self.graph[u].append((v, w))\n",
        "\n",
        "    def a_star(self, start, goal):\n",
        "        # create a dictionary to store the cost of the path from the start vertex to each vertex\n",
        "        cost = {start: 0}\n",
        "        # create a dictionary to store the estimated total cost from the start vertex to the goal vertex through each vertex\n",
        "        estimated_cost = {start: self.heuristic(start, goal)}\n",
        "        # create a dictionary to store the parent vertex of each vertex in the optimal path\n",
        "        parent = {start: None}\n",
        "        # create a priority queue to store vertices to be visited\n",
        "        queue = [(estimated_cost[start], start)]\n",
        "        # traverse the graph using A* algorithm\n",
        "        while queue:\n",
        "            # get the vertex with the lowest estimated total cost from the priority queue\n",
        "            curr_cost, curr_vertex = heapq.heappop(queue)\n",
        "            # check if the goal vertex has been reached\n",
        "            if curr_vertex == goal:\n",
        "                # return the optimal path and its cost\n",
        "                path = []\n",
        "                while curr_vertex is not None:\n",
        "                    path.append(curr_vertex)\n",
        "                    curr_vertex = parent[curr_vertex]\n",
        "                path.reverse()\n",
        "                return path, cost[goal]\n",
        "            # visit all unvisited neighbors of the current vertex\n",
        "            for neighbor, weight in self.graph[curr_vertex]:\n",
        "                new_cost = cost[curr_vertex] + weight\n",
        "                # update the cost and estimated cost if a better path has been found\n",
        "                if neighbor not in cost or new_cost < cost[neighbor]:\n",
        "                    cost[neighbor] = new_cost\n",
        "                    estimated_cost[neighbor] = new_cost + self.heuristic(neighbor, goal)\n",
        "                    parent[neighbor] = curr_vertex\n",
        "                    heapq.heappush(queue, (estimated_cost[neighbor], neighbor))\n",
        "        # if the goal vertex cannot be reached, return None\n",
        "        return None\n",
        "    \n",
        "    def heuristic(self, u, v):\n",
        "        # define the heuristic function as the Euclidean distance between the vertices\n",
        "        return ((u[0] - v[0]) ** 2 + (u[1] - v[1]) ** 2) ** 0.5\n",
        "\n",
        "# driver code to test the Graph class and A* algorithm\n",
        "g = Graph()\n",
        "g.add_edge((0, 0), (0, 1), 1)\n",
        "g.add_edge((0, 0), (1, 0), 1)\n",
        "g.add_edge((0, 1), (1, 1), 1)\n",
        "g.add_edge((1, 0), (1, 1), 1)\n",
        "g.add_edge((1, 0), (2, 0), 1)\n",
        "g.add_edge((1, 1), (2, 1), 1)\n",
        "g.add_edge((2, 0), (2, 1), 1)\n",
        "\n",
        "start = (0, 0)\n",
        "goal = (2, 1)\n",
        "path, cost = g.a_star(start, goal)\n",
        "print(\"Optimal path:\", path)\n",
        "print(\"Optimal path cost:\", cost)"
      ]
    }
  ]
}